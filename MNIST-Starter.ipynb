{
  "cells": [
    {
      "cell_type": "markdown",
      "id": "d92862b6-bcf2-4ab6-bc47-eaa07c2a015f",
      "metadata": {
        "id": "d92862b6-bcf2-4ab6-bc47-eaa07c2a015f"
      },
      "source": [
        "#Original Author: Jonathan Hudson\n",
        "#CPSC 433 F24"
      ]
    },
    {
      "cell_type": "code",
      "execution_count": null,
      "id": "38265ac1-5c33-4324-aedc-155483f53ab8",
      "metadata": {
        "id": "38265ac1-5c33-4324-aedc-155483f53ab8",
        "outputId": "7f0675e9-33c4-4055-8ac3-7a83293e3060"
      },
      "outputs": [
        {
          "name": "stdout",
          "output_type": "stream",
          "text": [
            "--Get data--\n",
            "--Process data--\n"
          ]
        }
      ],
      "source": [
        "import tensorflow as tf\n",
        "\n",
        "tf.random.set_seed(1234)\n",
        "\n",
        "print(\"--Get data--\")\n",
        "mnist = tf.keras.datasets.mnist\n",
        "(x_train, y_train), (x_test, y_test) = mnist.load_data()\n",
        "\n",
        "print(\"--Process data--\")\n",
        "x_train, x_test = x_train / 255.0, x_test / 255.0"
      ]
    },
    {
      "cell_type": "code",
      "execution_count": null,
      "id": "b118e511-7d40-4d34-96e0-e403a020d356",
      "metadata": {
        "id": "b118e511-7d40-4d34-96e0-e403a020d356",
        "outputId": "5517552a-c78a-4e58-e3d3-cad521a40009"
      },
      "outputs": [
        {
          "name": "stdout",
          "output_type": "stream",
          "text": [
            "--Make model--\n",
            "--Fit model--\n",
            "1875/1875 - 2s - loss: 0.7857 - accuracy: 0.8117 - 2s/epoch - 1ms/step\n"
          ]
        },
        {
          "data": {
            "text/plain": [
              "<keras.callbacks.History at 0x1e77a970040>"
            ]
          },
          "execution_count": 28,
          "metadata": {},
          "output_type": "execute_result"
        }
      ],
      "source": [
        "print(\"--Make model--\")\n",
        "model = tf.keras.models.Sequential([\n",
        "  tf.keras.layers.Flatten(input_shape=(28, 28)),\n",
        "  tf.keras.layers.Dense(10, activation='softmax')\n",
        "])\n",
        "model.compile(optimizer='sgd', loss='sparse_categorical_crossentropy', metrics=['accuracy'])\n",
        "\n",
        "print(\"--Fit model--\")\n",
        "model.fit(x_train, y_train, epochs=1, verbose=2)"
      ]
    },
    {
      "cell_type": "code",
      "execution_count": null,
      "id": "0386efc2-843f-4805-8f5d-e25125e677dc",
      "metadata": {
        "id": "0386efc2-843f-4805-8f5d-e25125e677dc",
        "outputId": "2ec44cd4-45d7-47e5-c314-b8795197cd1e"
      },
      "outputs": [
        {
          "name": "stdout",
          "output_type": "stream",
          "text": [
            "--Evaluate model--\n",
            "1875/1875 - 2s - loss: 0.5051 - accuracy: 0.8731 - 2s/epoch - 960us/step\n",
            "313/313 - 0s - loss: 0.4836 - accuracy: 0.8800 - 461ms/epoch - 1ms/step\n",
            "Train / Test Accuracy: 87.3% / 88.0%\n"
          ]
        }
      ],
      "source": [
        "print(\"--Evaluate model--\")\n",
        "model_loss1, model_acc1 = model.evaluate(x_train,  y_train, verbose=2)\n",
        "model_loss2, model_acc2 = model.evaluate(x_test,  y_test, verbose=2)\n",
        "print(f\"Train / Test Accuracy: {model_acc1*100:.1f}% / {model_acc2*100:.1f}%\")"
      ]
    }
  ],
  "metadata": {
    "kernelspec": {
      "display_name": "Python 3 (ipykernel)",
      "language": "python",
      "name": "python3"
    },
    "language_info": {
      "codemirror_mode": {
        "name": "ipython",
        "version": 3
      },
      "file_extension": ".py",
      "mimetype": "text/x-python",
      "name": "python",
      "nbconvert_exporter": "python",
      "pygments_lexer": "ipython3",
      "version": "3.9.7"
    },
    "colab": {
      "provenance": []
    }
  },
  "nbformat": 4,
  "nbformat_minor": 5
}